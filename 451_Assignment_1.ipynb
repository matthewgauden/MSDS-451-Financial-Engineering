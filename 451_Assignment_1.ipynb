{
  "cells": [
    {
      "cell_type": "markdown",
      "metadata": {
        "id": "X6WLknvbiIxo"
      },
      "source": [
        "<h2><font color='#306998'><center>451 Financial Engineering: Programming Assignment 1</center></font></h2>\n",
        "<h3><center>Thomas W. Miller, June 18, 2025</center></h3>\n",
        "---"
      ]
    },
    {
      "cell_type": "markdown",
      "metadata": {
        "id": "qv1UsDe4iIxz"
      },
      "source": [
        "## Overview\n",
        "We use machine learing classifiers, including tree-based ensemble boosting methods, to predict the direction of oil futures (up or down) using a number of lagged price features. In particular, we look at daily closing spot prices for [West Texas Intermediate (ticker WTI)](https://en.wikipedia.org/wiki/West_Texas_Intermediate) with lags of one to seven days, as well as features based on opening, closing, high, and low price points, and daily trading volume.\n",
        "\n",
        "A model for predicting the direction of daily returns sets the stage for testing the predictive utility of additional features. The domain of potential features or leading indicators is wide, including those associated with other price series, economic indicators, international events, securities filings, analyst and news reports, and media measures."
      ]
    },
    {
      "cell_type": "markdown",
      "metadata": {
        "tags": [],
        "id": "z6QqdiJHiIx4"
      },
      "source": [
        "### Import Libraries\n",
        "We draw on Python packages for data manipulation and modeling. Most important are Polars, a high-performance alternative to Pandas for data manipulation, and Scikit-Learn for machine learning study design and modeling algorithms."
      ]
    },
    {
      "cell_type": "code",
      "execution_count": 1,
      "metadata": {
        "scrolled": true,
        "id": "d66opIHHiIx7"
      },
      "outputs": [],
      "source": [
        "import os\n",
        "# Ignore warnings\n",
        "import warnings\n",
        "warnings.filterwarnings('ignore')\n",
        "warnings.simplefilter(action='ignore', category=FutureWarning)\n",
        "\n",
        "# Import Python Packages for data manipulation, data pipelines, and databases\n",
        "import numpy as np\n",
        "import pyarrow # foundation for polars\n",
        "import polars as pl # DataFrame work superior to Pandas\n",
        "\n",
        "# Plotting\n",
        "import matplotlib.pyplot as plt\n",
        "# Display static plots directly in the notebook output\n",
        "%matplotlib inline\n",
        "# create stylized visualizations, including heat maps\n",
        "import seaborn as sns\n",
        "\n",
        "# Preprocessing\n",
        "from sklearn.preprocessing import MinMaxScaler, StandardScaler\n",
        "from sklearn.pipeline import Pipeline\n",
        "from sklearn.model_selection import (RandomizedSearchCV,\n",
        "                                    TimeSeriesSplit)\n",
        "from sklearn.model_selection import cross_validate\n",
        "\n",
        "# utilized in all possible subsets classification work\n",
        "from sklearn.linear_model import LogisticRegression\n",
        "from sklearn.metrics import log_loss\n",
        "\n",
        "# needed for randomized search\n",
        "from sklearn.model_selection import RandomizedSearchCV\n",
        "from scipy.stats import randint, uniform\n",
        "\n",
        "# metrics in xgboost tuning and final model evaluation\n",
        "from sklearn.metrics import (accuracy_score,\n",
        "                             classification_report,\n",
        "                             roc_curve,\n",
        "                             roc_auc_score,\n",
        "                             RocCurveDisplay,\n",
        "                             ConfusionMatrixDisplay,\n",
        "                             confusion_matrix,\n",
        "                             precision_score,\n",
        "                             recall_score,\n",
        "                             f1_score\n",
        "                            )\n",
        "\n",
        "# XGBoost Package... more complete than SciKit-Learn boosting methods\n",
        "import xgboost as xgb\n",
        "from xgboost import XGBRegressor, XGBClassifier, plot_importance\n",
        "\n",
        "# import yfinance as yf  # used earlier to obtain the price series\n",
        "import yfinance as yf\n",
        "\n",
        "import warnings\n",
        "# Suppress warnings for cleaner output\n",
        "warnings.filterwarnings('ignore')"
      ]
    },
    {
      "cell_type": "markdown",
      "metadata": {
        "id": "JwNPU-nwiIx-"
      },
      "source": [
        "### Retrieve Data\n",
        "In previous work, we retrieved price data for WTI from Yahoo Finance. The code is shown in the next commented-out cell."
      ]
    },
    {
      "cell_type": "code",
      "execution_count": 2,
      "metadata": {
        "colab": {
          "base_uri": "https://localhost:8080/",
          "height": 70
        },
        "id": "1ghTa22jiIx_",
        "outputId": "bbb34c35-6eff-4497-eb8b-e0e2e506f850"
      },
      "outputs": [
        {
          "output_type": "execute_result",
          "data": {
            "text/plain": [
              "'\\n# Previous work to retrieve data from Yahoo Finance\\nsymbol = \\'DIS\\'\\nstart_date = \\'2000-01-01\\'\\nend_date = \\'2025-05-27\\'\\n\\nsymbol = \\'DIS\\'\\nticker = yf.Ticker(symbol)\\nhistorical_data = ticker.history(start = start_date, end = end_date, period = \\'1mo\\')\\nprint(historical_data)\\n\\nprint(\"type of historical_data\", type(historical_data))\\n\\nhistorical_data.to_csv(\"dis_historical_data.csv\")\\n'"
            ],
            "application/vnd.google.colaboratory.intrinsic+json": {
              "type": "string"
            }
          },
          "metadata": {},
          "execution_count": 2
        }
      ],
      "source": [
        "'''\n",
        "# Previous work to retrieve data from Yahoo Finance\n",
        "symbol = 'DIS'\n",
        "start_date = '2000-01-01'\n",
        "end_date = '2025-05-27'\n",
        "\n",
        "symbol = 'DIS'\n",
        "ticker = yf.Ticker(symbol)\n",
        "historical_data = ticker.history(start = start_date, end = end_date, period = '1mo')\n",
        "print(historical_data)\n",
        "\n",
        "print(\"type of historical_data\", type(historical_data))\n",
        "\n",
        "historical_data.to_csv(\"dis_historical_data.csv\")\n",
        "'''"
      ]
    },
    {
      "cell_type": "markdown",
      "metadata": {
        "id": "8K-gP1YQiIyC"
      },
      "source": [
        "### Polars DataFrame Development\n",
        "The following code cell demonstrates Polars use with the time series DataFrame for our selected market/ticker, WTI."
      ]
    },
    {
      "cell_type": "code",
      "execution_count": 4,
      "metadata": {
        "colab": {
          "base_uri": "https://localhost:8080/"
        },
        "id": "F_jbQYgHiIyF",
        "outputId": "105f4733-0877-4915-cc87-76904746a549"
      },
      "outputs": [
        {
          "output_type": "stream",
          "name": "stdout",
          "text": [
            "Schema({'Date': Datetime(time_unit='us', time_zone='UTC'), 'Open': Float64, 'High': Float64, 'Low': Float64, 'Close': Float64, 'Volume': Int64, 'Dividends': Float64, 'Stock Splits': Float64})\n",
            "Schema({'Date': Datetime(time_unit='us', time_zone='UTC'), 'Open': Float64, 'High': Float64, 'Low': Float64, 'Close': Float64, 'Volume': Float64, 'CloseLag1': Float64, 'CloseLag2': Float64, 'CloseLag3': Float64, 'HML': Float64, 'HMLLag1': Float64, 'HMLLag2': Float64, 'HMLLag3': Float64, 'OMC': Float64, 'OMCLag1': Float64, 'OMCLag2': Float64, 'OMCLag3': Float64, 'VolumeLag1': Float64, 'VolumeLag2': Float64, 'VolumeLag3': Float64, 'CloseEMA2': Float64, 'CloseEMA4': Float64, 'CloseEMA8': Float64, 'LogReturn': Float64, 'Target': Int32})\n"
          ]
        }
      ],
      "source": [
        "dis = pl.read_csv(\"msds_getdata_yfinance_dis.csv\", try_parse_dates=True)\n",
        "\n",
        "# check the original schema\n",
        "print(dis.schema)\n",
        "\n",
        "# drop useless columns Dividends and StockSplits\n",
        "dis = dis.drop(['Dividends', 'Stock Splits'])\n",
        "\n",
        "# create lag price features\n",
        "dis = dis.with_columns((pl.col('Close')).shift().alias('CloseLag1'))\n",
        "dis = dis.with_columns((pl.col('CloseLag1')).shift().alias('CloseLag2'))\n",
        "dis = dis.with_columns((pl.col('CloseLag2')).shift().alias('CloseLag3'))\n",
        "\n",
        "# create high-minus-low (HML) for day and its lags\n",
        "dis = dis.with_columns((pl.col('High') - pl.col('Low')).alias('HML'))\n",
        "dis = dis.with_columns((pl.col('HML')).shift().alias('HMLLag1'))\n",
        "dis = dis.with_columns((pl.col('HMLLag1')).shift().alias('HMLLag2'))\n",
        "dis = dis.with_columns((pl.col('HMLLag2')).shift().alias('HMLLag3'))\n",
        "\n",
        "# create a net change for the day as the open minus closing price OMC\n",
        "# also create the corresponding lag metrics\n",
        "dis = dis.with_columns((pl.col('Open') - pl.col('Close')).alias('OMC'))\n",
        "dis = dis.with_columns((pl.col('OMC')).shift().alias('OMCLag1'))\n",
        "dis = dis.with_columns((pl.col('OMCLag1')).shift().alias('OMCLag2'))\n",
        "dis = dis.with_columns((pl.col('OMCLag2')).shift().alias('OMCLag3'))\n",
        "\n",
        "# create volume lag metrics\n",
        "dis = dis.with_columns((pl.col('Volume')).shift().alias('VolumeLag1'))\n",
        "dis = dis.with_columns((pl.col('VolumeLag1')).shift().alias('VolumeLag2'))\n",
        "dis = dis.with_columns((pl.col('VolumeLag2')).shift().alias('VolumeLag3'))\n",
        "\n",
        "# compute 10-day exponential moving averages of closing prices\n",
        "# compute acround CloseLag1 to avoid any \"leakage\" in explanatory variable set\n",
        "# note also the 10-day buffer between train and test in time-series cross-validation\n",
        "dis = dis.with_columns((pl.col('CloseLag1').ewm_mean(half_life=1,ignore_nulls=True)).alias('CloseEMA2'))\n",
        "dis = dis.with_columns((pl.col('CloseLag1').ewm_mean(half_life=2,ignore_nulls=True)).alias('CloseEMA4'))\n",
        "dis = dis.with_columns((pl.col('CloseLag1').ewm_mean(half_life=4,ignore_nulls=True)).alias('CloseEMA8'))\n",
        "\n",
        "# log daily returns\n",
        "dis = dis.with_columns(np.log(pl.col('Close')/pl.col('CloseLag1')).alias('LogReturn'))\n",
        "\n",
        "# set volume features to Float64 for subsequent use in Numpy arrays\n",
        "dis = dis.with_columns(\n",
        "    pl.col('Volume').cast(pl.Float64).round(0),\n",
        "    pl.col('VolumeLag1').cast(pl.Float64).round(0),\n",
        "    pl.col('VolumeLag2').cast(pl.Float64).round(0),\n",
        "    pl.col('VolumeLag3').cast(pl.Float64).round(0),\n",
        "    )\n",
        "\n",
        "# round other features to three decimal places for reporting and subsequent analytics\n",
        "dis = dis.with_columns(\n",
        "    pl.col('Open').round(3),\n",
        "    pl.col('High').round(3),\n",
        "    pl.col('Low').round(3),\n",
        "    pl.col('Close').round(3),\n",
        "    pl.col('CloseLag1').round(3),\n",
        "    pl.col('CloseLag2').round(3),\n",
        "    pl.col('CloseLag3').round(3),\n",
        "    pl.col('HML').round(3),\n",
        "    pl.col('HMLLag1').round(3),\n",
        "    pl.col('HMLLag2').round(3),\n",
        "    pl.col('HMLLag3').round(3),\n",
        "    pl.col('OMC').round(3),\n",
        "    pl.col('OMCLag1').round(3),\n",
        "    pl.col('OMCLag2').round(3),\n",
        "    pl.col('OMCLag3').round(3),\n",
        "    pl.col('CloseEMA2').round(3),\n",
        "    pl.col('CloseEMA4').round(3),\n",
        "    pl.col('CloseEMA8').round(3))\n",
        "\n",
        "# define binary target/response 1 = market price up since previous day, 0 = even or down\n",
        "dis = dis.with_columns(pl.when(pl.col('LogReturn')>0.0).then(pl.lit(1)).otherwise(pl.lit(0)).alias('Target'))\n",
        "\n",
        "print(dis.schema)\n",
        "\n",
        "# save to external comma-delimited text file for checking calculations in Excel\n",
        "dis.write_csv(\"dis-with-computed-features.csv\")"
      ]
    },
    {
      "cell_type": "markdown",
      "metadata": {
        "id": "Y_47OLl5iIyH"
      },
      "source": [
        "### Descriptive Statistics for Price Features"
      ]
    },
    {
      "cell_type": "code",
      "execution_count": 5,
      "metadata": {
        "colab": {
          "base_uri": "https://localhost:8080/"
        },
        "id": "xokc-SyoiIyI",
        "outputId": "ba03ddaf-25b8-4c1d-ce3a-22bf5341294c"
      },
      "outputs": [
        {
          "output_type": "stream",
          "name": "stdout",
          "text": [
            "['statistic', 'Open', 'High', 'Low', 'Close', 'Volume', 'CloseLag1', 'CloseLag2', 'CloseLag3', 'HML', 'HMLLag1', 'HMLLag2', 'HMLLag3', 'OMC', 'OMCLag1', 'OMCLag2', 'OMCLag3', 'VolumeLag1', 'VolumeLag2', 'VolumeLag3', 'CloseEMA2', 'CloseEMA4', 'CloseEMA8', 'LogReturn', 'Target']\n",
            "Schema({'column': String, 'column_0': String, 'column_2': String, 'column_3': String, 'column_4': String, 'column_6': String, 'column_8': String})\n",
            "┌────────────┬──────────┬────────────────────────┬──────────────────────┬──────────────────────┬───────────────────────┬────────────────────┐\n",
            "│ column     ┆ column_0 ┆ column_2               ┆ column_3             ┆ column_4             ┆ column_6              ┆ column_8           │\n",
            "╞════════════╪══════════╪════════════════════════╪══════════════════════╪══════════════════════╪═══════════════════════╪════════════════════╡\n",
            "│ statistic  ┆ count    ┆ mean                   ┆ std                  ┆ min                  ┆ 50%                   ┆ max                │\n",
            "│ Open       ┆ 6468.0   ┆ 64.45454112554113      ┆ 45.398306755644334   ┆ 10.687               ┆ 45.063                ┆ 196.907            │\n",
            "│ High       ┆ 6468.0   ┆ 65.07302535559678      ┆ 45.7866223629943     ┆ 10.919               ┆ 45.38                 ┆ 199.691            │\n",
            "│ Low        ┆ 6468.0   ┆ 63.791418676561534     ┆ 44.950283772611726   ┆ 10.439               ┆ 44.597                ┆ 192.196            │\n",
            "│ Close      ┆ 6468.0   ┆ 64.4475735930736       ┆ 45.36188859940439    ┆ 10.664               ┆ 44.906                ┆ 198.599            │\n",
            "│ Volume     ┆ 6468.0   ┆ 9809964.59554731       ┆ 6063856.9795848215   ┆ 1487481.0            ┆ 8330100.0             ┆ 116588748.0        │\n",
            "│ CloseLag1  ┆ 6468.0   ┆ 64.43391202844774      ┆ 45.36044040814492    ┆ 10.664               ┆ 44.729                ┆ 198.599            │\n",
            "│ CloseLag2  ┆ 6468.0   ┆ 64.42027844774273      ┆ 45.35931855568739    ┆ 10.664               ┆ 44.729                ┆ 198.599            │\n",
            "│ CloseLag3  ┆ 6468.0   ┆ 64.40639100185528      ┆ 45.35832804971903    ┆ 10.664               ┆ 44.709                ┆ 198.599            │\n",
            "│ HML        ┆ 6468.0   ┆ 1.2816117810760665     ┆ 1.2333786192149274   ┆ 0.102                ┆ 0.863                 ┆ 13.888             │\n",
            "│ HMLLag1    ┆ 6468.0   ┆ 1.2814868583797154     ┆ 1.2333518299073054   ┆ 0.102                ┆ 0.863                 ┆ 13.888             │\n",
            "│ HMLLag2    ┆ 6468.0   ┆ 1.2813951762523188     ┆ 1.233318963604183    ┆ 0.102                ┆ 0.863                 ┆ 13.888             │\n",
            "│ HMLLag3    ┆ 6468.0   ┆ 1.2812087198515767     ┆ 1.23328483623136     ┆ 0.102                ┆ 0.863                 ┆ 13.888             │\n",
            "│ OMC        ┆ 6468.0   ┆ 0.006974335188620931   ┆ 1.029093492536793    ┆ -10.107              ┆ 0.0                   ┆ 9.846              │\n",
            "│ OMCLag1    ┆ 6468.0   ┆ 0.006977581941867643   ┆ 1.0290902850905235   ┆ -10.107              ┆ 0.0                   ┆ 9.846              │\n",
            "│ OMCLag2    ┆ 6468.0   ┆ 0.006713667285095862   ┆ 1.029190401524593    ┆ -10.107              ┆ 0.0                   ┆ 9.846              │\n",
            "│ OMCLag3    ┆ 6468.0   ┆ 0.006763760049474316   ┆ 1.0291590154651735   ┆ -10.107              ┆ 0.0                   ┆ 9.846              │\n",
            "│ VolumeLag1 ┆ 6468.0   ┆ 9811675.885281386      ┆ 6065120.981001863    ┆ 1487481.0            ┆ 8330100.0             ┆ 116588748.0        │\n",
            "│ VolumeLag2 ┆ 6468.0   ┆ 9812125.203617811      ┆ 6065475.597970539    ┆ 1487481.0            ┆ 8330100.0             ┆ 116588748.0        │\n",
            "│ VolumeLag3 ┆ 6468.0   ┆ 9811030.959647495      ┆ 6065091.364682009    ┆ 1487481.0            ┆ 8330100.0             ┆ 116588748.0        │\n",
            "│ CloseEMA2  ┆ 6468.0   ┆ 64.42014347557203      ┆ 45.34617239852067    ┆ 10.902               ┆ 44.9                  ┆ 193.436            │\n",
            "│ CloseEMA4  ┆ 6468.0   ┆ 64.4004448051948       ┆ 45.32947458117813    ┆ 11.132               ┆ 44.874                ┆ 192.817            │\n",
            "│ CloseEMA8  ┆ 6468.0   ┆ 64.36013698206555      ┆ 45.29464707712311    ┆ 11.55                ┆ 44.698                ┆ 191.433            │\n",
            "│ LogReturn  ┆ 6468.0   ┆ 0.00023340085580057028 ┆ 0.019243657130345898 ┆ -0.20288763066097776 ┆ 0.0002698124356397424 ┆ 0.1481805591762944 │\n",
            "│ Target     ┆ 6468.0   ┆ 0.5054112554112554     ┆ 0.5000093715003312   ┆ 0.0                  ┆ 1.0                   ┆ 1.0                │\n",
            "└────────────┴──────────┴────────────────────────┴──────────────────────┴──────────────────────┴───────────────────────┴────────────────────┘\n"
          ]
        }
      ],
      "source": [
        "# Drop the rows with null values such as the initial lag rows\n",
        "dis = dis.drop_nulls()\n",
        "\n",
        "# Descriptive statistics\n",
        "disStatistics = dis.drop('Date').describe()\n",
        "\n",
        "print(disStatistics.columns)\n",
        "\n",
        "disStatisticsToPrint = disStatistics.transpose(include_header=True).drop(['column_1', 'column_5', 'column_7'])\n",
        "\n",
        "print(disStatisticsToPrint.schema)\n",
        "\n",
        "with pl.Config(\n",
        "    tbl_rows = 60,\n",
        "    tbl_width_chars = 200,\n",
        "    tbl_cols = -1,\n",
        "    float_precision = 3,\n",
        "    tbl_hide_dataframe_shape = True,\n",
        "    tbl_hide_column_data_types = True):\n",
        "    print(disStatisticsToPrint)\n",
        "\n"
      ]
    },
    {
      "cell_type": "markdown",
      "metadata": {
        "id": "pWAKyZGZiIyK"
      },
      "source": [
        "### Feature List\n",
        "Features or explanatory variables, also known as an independent variables, are used to predict the values of target variables. The initial list of featrues includes the price-based features defined above, everything except the continuous response **LogReturn** if we wanted to employ regression and the binary response **Target** for classification, which is the focus of this project. This complete feature list is used in evaluating all methods."
      ]
    },
    {
      "cell_type": "code",
      "execution_count": 6,
      "metadata": {
        "colab": {
          "base_uri": "https://localhost:8080/",
          "height": 275
        },
        "id": "P8GVf5sIiIyK",
        "outputId": "14d43da8-fa69-40bd-f1be-f11112a649ae"
      },
      "outputs": [
        {
          "output_type": "execute_result",
          "data": {
            "text/plain": [
              "shape: (5, 15)\n",
              "┌───────────┬───────────┬───────────┬─────────┬───┬────────────┬───────────┬───────────┬───────────┐\n",
              "│ CloseLag1 ┆ CloseLag2 ┆ CloseLag3 ┆ HMLLag1 ┆ … ┆ VolumeLag3 ┆ CloseEMA2 ┆ CloseEMA4 ┆ CloseEMA8 │\n",
              "│ ---       ┆ ---       ┆ ---       ┆ ---     ┆   ┆ ---        ┆ ---       ┆ ---       ┆ ---       │\n",
              "│ f64       ┆ f64       ┆ f64       ┆ f64     ┆   ┆ f64        ┆ f64       ┆ f64       ┆ f64       │\n",
              "╞═══════════╪═══════════╪═══════════╪═════════╪═══╪════════════╪═══════════╪═══════════╪═══════════╡\n",
              "│ 25.067    ┆ 24.068    ┆ 22.736    ┆ 1.142   ┆ … ┆ 8.40223e6  ┆ 24.449    ┆ 24.219    ┆ 24.09     │\n",
              "│ 24.068    ┆ 25.067    ┆ 24.068    ┆ 1.142   ┆ … ┆ 1.6051191e ┆ 24.246    ┆ 24.16     ┆ 24.083    │\n",
              "│           ┆           ┆           ┆         ┆   ┆ 7          ┆           ┆           ┆           │\n",
              "│ 23.688    ┆ 24.068    ┆ 25.067    ┆ 0.999   ┆ … ┆ 1.9823822e ┆ 23.958    ┆ 23.992    ┆ 23.975    │\n",
              "│           ┆           ┆           ┆         ┆   ┆ 7          ┆           ┆           ┆           │\n",
              "│ 27.302    ┆ 23.688    ┆ 24.068    ┆ 1.475   ┆ … ┆ 7.903193e6 ┆ 25.657    ┆ 25.1      ┆ 24.794    │\n",
              "│ 27.588    ┆ 27.302    ┆ 23.688    ┆ 1.142   ┆ … ┆ 6.773543e6 ┆ 26.63     ┆ 25.899    ┆ 25.426    │\n",
              "└───────────┴───────────┴───────────┴─────────┴───┴────────────┴───────────┴───────────┴───────────┘"
            ],
            "text/html": [
              "<div><style>\n",
              ".dataframe > thead > tr,\n",
              ".dataframe > tbody > tr {\n",
              "  text-align: right;\n",
              "  white-space: pre-wrap;\n",
              "}\n",
              "</style>\n",
              "<small>shape: (5, 15)</small><table border=\"1\" class=\"dataframe\"><thead><tr><th>CloseLag1</th><th>CloseLag2</th><th>CloseLag3</th><th>HMLLag1</th><th>HMLLag2</th><th>HMLLag3</th><th>OMCLag1</th><th>OMCLag2</th><th>OMCLag3</th><th>VolumeLag1</th><th>VolumeLag2</th><th>VolumeLag3</th><th>CloseEMA2</th><th>CloseEMA4</th><th>CloseEMA8</th></tr><tr><td>f64</td><td>f64</td><td>f64</td><td>f64</td><td>f64</td><td>f64</td><td>f64</td><td>f64</td><td>f64</td><td>f64</td><td>f64</td><td>f64</td><td>f64</td><td>f64</td><td>f64</td></tr></thead><tbody><tr><td>25.067</td><td>24.068</td><td>22.736</td><td>1.142</td><td>1.427</td><td>0.904</td><td>-0.999</td><td>-1.237</td><td>-0.476</td><td>1.9823822e7</td><td>1.6051191e7</td><td>8.40223e6</td><td>24.449</td><td>24.219</td><td>24.09</td></tr><tr><td>24.068</td><td>25.067</td><td>24.068</td><td>1.142</td><td>1.142</td><td>1.427</td><td>0.999</td><td>-0.999</td><td>-1.237</td><td>7.903193e6</td><td>1.9823822e7</td><td>1.6051191e7</td><td>24.246</td><td>24.16</td><td>24.083</td></tr><tr><td>23.688</td><td>24.068</td><td>25.067</td><td>0.999</td><td>1.142</td><td>1.142</td><td>0.381</td><td>0.999</td><td>-0.999</td><td>6.773543e6</td><td>7.903193e6</td><td>1.9823822e7</td><td>23.958</td><td>23.992</td><td>23.975</td></tr><tr><td>27.302</td><td>23.688</td><td>24.068</td><td>1.475</td><td>0.999</td><td>1.142</td><td>-1.427</td><td>0.381</td><td>0.999</td><td>3.3965839e7</td><td>6.773543e6</td><td>7.903193e6</td><td>25.657</td><td>25.1</td><td>24.794</td></tr><tr><td>27.588</td><td>27.302</td><td>23.688</td><td>1.142</td><td>1.475</td><td>0.999</td><td>-0.285</td><td>-1.427</td><td>0.381</td><td>2.013482e7</td><td>3.3965839e7</td><td>6.773543e6</td><td>26.63</td><td>25.899</td><td>25.426</td></tr></tbody></table></div>"
            ]
          },
          "metadata": {},
          "execution_count": 6
        }
      ],
      "source": [
        "# Select Features for the Model, exclude current day price variables ... no \"leakage\"\n",
        "# note for moving averages, we have excluded the current day, and provide a 10-day gap\n",
        "# so these may be included in the set\n",
        "X = dis.drop(['Date', 'LogReturn', 'Target', 'Open', 'High', 'Low', 'Close', 'Volume', 'HML', 'OMC'])\n",
        "X.head()"
      ]
    },
    {
      "cell_type": "markdown",
      "metadata": {
        "id": "AFxqAgKCiIyL"
      },
      "source": [
        "### Examine the Distribution of LogReturn Values"
      ]
    },
    {
      "cell_type": "code",
      "execution_count": 7,
      "metadata": {
        "colab": {
          "base_uri": "https://localhost:8080/"
        },
        "id": "ZBw0ZyNhiIyM",
        "outputId": "84623363-b94d-4e10-ebc2-b58ef2eca785"
      },
      "outputs": [
        {
          "output_type": "stream",
          "name": "stdout",
          "text": [
            "shape: (9, 2)\n",
            "┌────────────┬───────────┐\n",
            "│ statistic  ┆ value     │\n",
            "│ ---        ┆ ---       │\n",
            "│ str        ┆ f64       │\n",
            "╞════════════╪═══════════╡\n",
            "│ count      ┆ 6468.0    │\n",
            "│ null_count ┆ 0.0       │\n",
            "│ mean       ┆ 0.000233  │\n",
            "│ std        ┆ 0.019244  │\n",
            "│ min        ┆ -0.202888 │\n",
            "│ 25%        ┆ -0.008557 │\n",
            "│ 50%        ┆ 0.00027   │\n",
            "│ 75%        ┆ 0.009041  │\n",
            "│ max        ┆ 0.148181  │\n",
            "└────────────┴───────────┘\n"
          ]
        }
      ],
      "source": [
        "# Define and examine the target for regression model development\n",
        "print(dis['LogReturn'].describe())\n",
        "\n",
        "y = np.array(dis['LogReturn'])\n"
      ]
    },
    {
      "cell_type": "markdown",
      "metadata": {
        "id": "cEwprJ9HiIyN"
      },
      "source": [
        "### Standardize All Features\n",
        "Standardization is carried out for the complete set of features."
      ]
    },
    {
      "cell_type": "code",
      "execution_count": 8,
      "metadata": {
        "colab": {
          "base_uri": "https://localhost:8080/"
        },
        "id": "CTiyJ0ifiIyQ",
        "outputId": "c432c23e-c382-48c8-9957-a5973fb67633"
      },
      "outputs": [
        {
          "output_type": "stream",
          "name": "stdout",
          "text": [
            "Feature names correspond to Numpy array columns: ['CloseLag1', 'CloseLag2', 'CloseLag3', 'HMLLag1', 'HMLLag2', 'HMLLag3', 'OMCLag1', 'OMCLag2', 'OMCLag3', 'VolumeLag1', 'VolumeLag2', 'VolumeLag3', 'CloseEMA2', 'CloseEMA4', 'CloseEMA8']\n"
          ]
        }
      ],
      "source": [
        "# Standardize features\n",
        "featureNames = X.columns\n",
        "print(\"Feature names correspond to Numpy array columns:\",featureNames)\n",
        "scaler = StandardScaler()\n",
        "X = scaler.fit_transform(np.array(X))"
      ]
    },
    {
      "cell_type": "markdown",
      "metadata": {
        "id": "min9Y3pOiIyR"
      },
      "source": [
        "### Target Definition for Classification (Target)\n",
        "\n",
        "Identify the binary target variable for model development."
      ]
    },
    {
      "cell_type": "code",
      "execution_count": 9,
      "metadata": {
        "colab": {
          "base_uri": "https://localhost:8080/"
        },
        "id": "GYZ4h6s5iIyS",
        "outputId": "169c7676-5c29-4946-fbaf-9df13ddbd313"
      },
      "outputs": [
        {
          "output_type": "stream",
          "name": "stdout",
          "text": [
            "shape: (2, 2)\n",
            "┌────────┬───────┐\n",
            "│ Target ┆ count │\n",
            "│ ---    ┆ ---   │\n",
            "│ i32    ┆ u32   │\n",
            "╞════════╪═══════╡\n",
            "│ 0      ┆ 3199  │\n",
            "│ 1      ┆ 3269  │\n",
            "└────────┴───────┘\n"
          ]
        }
      ],
      "source": [
        "# Define and examine the target for classification model development\n",
        "print(dis['Target'].value_counts())\n",
        "\n",
        "y = np.array(dis['Target'])"
      ]
    },
    {
      "cell_type": "markdown",
      "metadata": {
        "id": "dBA9PQ0OiIyU"
      },
      "source": [
        "### Feature Selection Using All Possible Classifications\n",
        "We draw on traditional applied statistis, selecting the best combination of features using the Akaike Information Criterion (AIC)."
      ]
    },
    {
      "cell_type": "code",
      "execution_count": 10,
      "metadata": {
        "id": "M8ddEgiKiIyU"
      },
      "outputs": [],
      "source": [
        "# Polars DataFrame for storing results from all possible subsets\n",
        "resultsSchema = {\"trialNumber\": pl.Int64, \"features\": pl.String, 'aic': pl.Float64}\n",
        "resultsDataFrame = pl.DataFrame(schema = resultsSchema)\n",
        "\n",
        "def getAIC(X, y):\n",
        "    model = LogisticRegression()\n",
        "    model.fit(X, y)\n",
        "    # Calculate log-likelihood\n",
        "    loglik = -log_loss(y, model.predict_proba(X)) * len(y)\n",
        "    # Calculate the number of parameters\n",
        "    k = X.shape[1] + 1\n",
        "    # Calculate AIC... smaller is better\n",
        "    aic = 2 * k -2 * loglik\n",
        "    # print(f\"AIC: {aic}\") # print for initial testing\n",
        "    return aic\n",
        "\n",
        "from itertools import chain, combinations\n",
        "\n",
        "def powerset(iterable):\n",
        "    s = list(iterable)\n",
        "    return chain.from_iterable(combinations(s, r) for r in range(1, len(s)))\n",
        "\n",
        "trialNumber = 0 # initialize count\n",
        "for c in powerset(range(X.shape[1])):\n",
        "    trialNumber = trialNumber + 1\n",
        "    # print(c)\n",
        "    thisAIC = getAIC(X[:,c], y)\n",
        "    thisTrialDataFrame = pl.DataFrame({\"trialNumber\": trialNumber,\n",
        "                                       \"features\": ' '.join(map(str, c)),\n",
        "                                       \"aic\": thisAIC},\n",
        "                                        schema=resultsSchema)\n",
        "    resultsDataFrame = pl.concat([resultsDataFrame,thisTrialDataFrame])\n",
        "\n",
        "# one more set of features... all features\n",
        "trialNumber = trialNumber + 1\n",
        "thisAIC = getAIC(X, y)\n",
        "thisTrialDataFrame = pl.DataFrame({\"trialNumber\": trialNumber,\n",
        "                                   \"features\": \"0 1 2 3 4 5 6 7 8 9 10 11 12 13 14\",\n",
        "                                   \"aic\": thisAIC},\n",
        "                                    schema=resultsSchema, strict=False)\n",
        "resultsDataFrame = pl.concat([resultsDataFrame,thisTrialDataFrame])\n"
      ]
    },
    {
      "cell_type": "code",
      "execution_count": 11,
      "metadata": {
        "colab": {
          "base_uri": "https://localhost:8080/"
        },
        "id": "RAiOlid3iIyW",
        "outputId": "5cb06145-0887-4eaa-df70-a3d9a6595fbe"
      },
      "outputs": [
        {
          "output_type": "stream",
          "name": "stdout",
          "text": [
            "shape: (10, 3)\n",
            "┌─────────────┬──────────┬─────────────┐\n",
            "│ trialNumber ┆ features ┆ aic         │\n",
            "│ ---         ┆ ---      ┆ ---         │\n",
            "│ i64         ┆ str      ┆ f64         │\n",
            "╞═════════════╪══════════╪═════════════╡\n",
            "│ 375         ┆ 3 6 7    ┆ 8960.820073 │\n",
            "│ 85          ┆ 6 7      ┆ 8961.039589 │\n",
            "│ 420         ┆ 4 6 7    ┆ 8961.449138 │\n",
            "│ 456         ┆ 5 6 7    ┆ 8962.157437 │\n",
            "│ 1533        ┆ 3 6 7 14 ┆ 8962.486586 │\n",
            "│ 1532        ┆ 3 6 7 13 ┆ 8962.510438 │\n",
            "│ 739         ┆ 0 3 6 7  ┆ 8962.521343 │\n",
            "│ 1531        ┆ 3 6 7 12 ┆ 8962.522545 │\n",
            "│ 1025        ┆ 1 3 6 7  ┆ 8962.52349  │\n",
            "│ 1245        ┆ 2 3 6 7  ┆ 8962.540712 │\n",
            "└─────────────┴──────────┴─────────────┘\n"
          ]
        }
      ],
      "source": [
        "print(resultsDataFrame.sort('aic').head(10))"
      ]
    },
    {
      "cell_type": "markdown",
      "metadata": {
        "id": "u1hW7jSHiIyX"
      },
      "source": [
        "### Selected Feature Subset\n",
        "Reviewing the ten lowest *AIC* models, we selected five features for subsequent model development:\n",
        "- **CloseLag3** Lag-three daily closing price\n",
        "- **HMLLag1** Lag-one high minus low daily prices\n",
        "- **OMCLag2** Lag-two open minus closing daily prices\n",
        "- **OMCLag3** Lag-three open minus closing daily prices\n",
        "- **CloseEMA8** Exponential moving average across eight days"
      ]
    },
    {
      "cell_type": "code",
      "execution_count": 12,
      "metadata": {
        "colab": {
          "base_uri": "https://localhost:8080/",
          "height": 678
        },
        "id": "Y9qnEXrviIyY",
        "outputId": "8bef7b7c-71dd-4171-ec18-4bdf79bff32c"
      },
      "outputs": [
        {
          "output_type": "stream",
          "name": "stdout",
          "text": [
            "shape: (7, 7)\n",
            "┌───────────┬───────────┬───────────┬───────────┬───────────┬───────────┬───────────┐\n",
            "│ LogReturn ┆ CloseLag1 ┆ CloseLag3 ┆ HMLLag1   ┆ OMCLag2   ┆ OMCLag3   ┆ CloseEMA8 │\n",
            "│ ---       ┆ ---       ┆ ---       ┆ ---       ┆ ---       ┆ ---       ┆ ---       │\n",
            "│ f64       ┆ f64       ┆ f64       ┆ f64       ┆ f64       ┆ f64       ┆ f64       │\n",
            "╞═══════════╪═══════════╪═══════════╪═══════════╪═══════════╪═══════════╪═══════════╡\n",
            "│ 1.0       ┆ -0.013082 ┆ -0.012076 ┆ -0.023942 ┆ 0.008911  ┆ -0.011278 ┆ -0.012497 │\n",
            "│ -0.013082 ┆ 1.0       ┆ 0.999144  ┆ 0.678324  ┆ 0.025762  ┆ 0.026163  ┆ 0.998943  │\n",
            "│ -0.012076 ┆ 0.999144  ┆ 1.0       ┆ 0.678758  ┆ 0.047318  ┆ 0.024656  ┆ 0.999425  │\n",
            "│ -0.023942 ┆ 0.678324  ┆ 0.678758  ┆ 1.0       ┆ 0.047722  ┆ 0.047846  ┆ 0.682492  │\n",
            "│ 0.008911  ┆ 0.025762  ┆ 0.047318  ┆ 0.047722  ┆ 1.0       ┆ -0.079129 ┆ 0.039575  │\n",
            "│ -0.011278 ┆ 0.026163  ┆ 0.024656  ┆ 0.047846  ┆ -0.079129 ┆ 1.0       ┆ 0.037617  │\n",
            "│ -0.012497 ┆ 0.998943  ┆ 0.999425  ┆ 0.682492  ┆ 0.039575  ┆ 0.037617  ┆ 1.0       │\n",
            "└───────────┴───────────┴───────────┴───────────┴───────────┴───────────┴───────────┘\n"
          ]
        },
        {
          "output_type": "display_data",
          "data": {
            "text/plain": [
              "<Figure size 640x480 with 2 Axes>"
            ],
            "image/png": "[encoded data removed]"
          },
          "metadata": {}
        }
      ],
      "source": [
        "# examine relationships among five selected features, along with LogReturn and CloseLag1\n",
        "XStudy = dis.select('LogReturn','CloseLag1','CloseLag3','HMLLag1','OMCLag2','OMCLag3','CloseEMA8')\n",
        "\n",
        "# prepare correlation heat map using seaborn\n",
        "corrMatrix = XStudy.corr()\n",
        "print(corrMatrix)\n",
        "sns.heatmap(corrMatrix, cmap='coolwarm', annot=True)\n",
        "plt.show()"
      ]
    },
    {
      "cell_type": "code",
      "execution_count": 13,
      "metadata": {
        "id": "H_v6M4K0iIyZ"
      },
      "outputs": [],
      "source": [
        "# select subset of five columns as features\n",
        "X = dis.select('CloseLag3','HMLLag1','OMCLag2','OMCLag3','CloseEMA8')"
      ]
    },
    {
      "cell_type": "markdown",
      "metadata": {
        "id": "UKFRg99IiIya"
      },
      "source": [
        "### Define Cross-Validation Training and Test Sets\n",
        "Recognizing that time series observations are not independent observations, we use Scikit-Learn [TimeSeriesSplit](https://scikit-learn.org/stable/modules/generated/sklearn.model_selection.TimeSeriesSplit.html) for cross-validation.\n",
        "\n",
        "This cross-validation object is a variation of multi-fold cross-validation for independent observations. In the kth split, it returns first k folds as train set and the (k+1)th fold as test set.\n",
        "\n",
        "Unlike cross-validation for independent observations, however, successive training sets are supersets of those that come before them. A listing of observation index numbers shows what this means for the time series market data in this demonstration.\n"
      ]
    },
    {
      "cell_type": "code",
      "execution_count": 14,
      "metadata": {
        "colab": {
          "base_uri": "https://localhost:8080/"
        },
        "id": "PH_sH6AGiIya",
        "outputId": "be3753e6-c0d5-489a-f2d1-183d34a3a20d"
      },
      "outputs": [
        {
          "output_type": "stream",
          "name": "stdout",
          "text": [
            "type(all_splits): <class 'list'>  outer list length 5\n",
            "\n",
            "train_0 has 1068 with indices from  0 to 1067\n",
            "test_0 has 1078 with indices from  1078 to 2155\n",
            "\n",
            "train_1 has 2146 with indices from  0 to 2145\n",
            "test_1 has 1078 with indices from  2156 to 3233\n",
            "\n",
            "train_2 has 3224 with indices from  0 to 3223\n",
            "test_2 has 1078 with indices from  3234 to 4311\n",
            "\n",
            "train_3 has 4302 with indices from  0 to 4301\n",
            "test_3 has 1078 with indices from  4312 to 5389\n",
            "\n",
            "train_4 has 5380 with indices from  0 to 5379\n",
            "test_4 has 1078 with indices from  5390 to 6467\n"
          ]
        }
      ],
      "source": [
        "# Splitting the datasets into train and test sets\n",
        "# gap is the number of samples to exclude from\n",
        "# the end of each train set and before the next test set.\n",
        "tscv = TimeSeriesSplit(gap=10, n_splits=5)\n",
        "\n",
        "all_splits = list(tscv.split(X, y))\n",
        "train_0, test_0 = all_splits[0]\n",
        "train_1, test_1 = all_splits[1]\n",
        "train_2, test_2 = all_splits[2]\n",
        "train_3, test_3 = all_splits[3]\n",
        "train_4, test_4 = all_splits[4]\n",
        "\n",
        "# examine the objects created for cross-validation splits\n",
        "print(\"type(all_splits):\", type(all_splits), \" outer list length\", len(all_splits))\n",
        "print()\n",
        "print(\"train_0 has\",len(train_0),\"with indices from \",min(train_0),\"to\",max(train_0))\n",
        "print(\"test_0 has\",len(test_0),\"with indices from \",min(test_0),\"to\",max(test_0))\n",
        "print()\n",
        "print(\"train_1 has\",len(train_1),\"with indices from \",min(train_1),\"to\",max(train_1))\n",
        "print(\"test_1 has\",len(test_1),\"with indices from \",min(test_1),\"to\",max(test_1))\n",
        "print()\n",
        "print(\"train_2 has\",len(train_2),\"with indices from \",min(train_2),\"to\",max(train_2))\n",
        "print(\"test_2 has\",len(test_2),\"with indices from \",min(test_2),\"to\",max(test_2))\n",
        "print()\n",
        "print(\"train_3 has\",len(train_3),\"with indices from \",min(train_3),\"to\",max(train_3))\n",
        "print(\"test_3 has\",len(test_3),\"with indices from \",min(test_3),\"to\",max(test_3))\n",
        "print()\n",
        "print(\"train_4 has\",len(train_4),\"with indices from \",min(train_4),\"to\",max(train_4))\n",
        "print(\"test_4 has\",len(test_4),\"with indices from \",min(test_4),\"to\",max(test_4))\n",
        "\n",
        "# to see all indices we can uncomment these statements\n",
        "# print(\"elements of all_splits list of lists,\\n shows index numbers for each the five lists\")\n",
        "# print(all_splits)"
      ]
    },
    {
      "cell_type": "markdown",
      "metadata": {
        "id": "w0dVWiTBiIyb"
      },
      "source": [
        "### Define an Initial Classification Model to Be Evaluated¶\n",
        "We again select gradient boosting from the XGBoost package, this time defining a classification model to be evaluated. Hyperparameters are retained at defauld settings, except for n_estimators."
      ]
    },
    {
      "cell_type": "code",
      "execution_count": 15,
      "metadata": {
        "id": "7wVvPX0wiIyc"
      },
      "outputs": [],
      "source": [
        "model = XGBClassifier(objective='binary:logistic', n_estimators=1000, random_state=2025)"
      ]
    },
    {
      "cell_type": "markdown",
      "metadata": {
        "id": "phmSAiLdiIyd"
      },
      "source": [
        "### Evaluate a Classification Model Within the Time Series Cross-Validation Design\n",
        "Prior to executing a full-blown search for the \"best\" classification model, we test the cross-validation design on a binary classification model, revising code provided in online documentation for Scikit-Learn: [Time-related feature engineerng](https://scikit-learn.org/stable/auto_examples/applications/plot_cyclical_feature_engineering.html#sphx-glr-auto-examples-applications-plot-cyclical-feature-engineering-py). In particular, we define appropriate metrics for assessing classification performance."
      ]
    },
    {
      "cell_type": "code",
      "execution_count": 16,
      "metadata": {
        "colab": {
          "base_uri": "https://localhost:8080/"
        },
        "id": "9-54lLzFiIyd",
        "outputId": "dfe4fd4d-a0ea-47b7-cadf-81425c6be973"
      },
      "outputs": [
        {
          "output_type": "stream",
          "name": "stdout",
          "text": [
            "Mean model.n_estimators = 1000.0\n"
          ]
        },
        {
          "output_type": "execute_result",
          "data": {
            "text/plain": [
              "(np.float64(0.498886827458256), np.float64(0.016494330813278554))"
            ]
          },
          "metadata": {},
          "execution_count": 16
        }
      ],
      "source": [
        "def evaluate(model, X, y, cv, model_prop=None, model_step=None):\n",
        "    cv_results = cross_validate(\n",
        "        model,\n",
        "        X,\n",
        "        y,\n",
        "        cv=cv,\n",
        "        scoring=[\"accuracy\"],\n",
        "        return_estimator=model_prop is not None,\n",
        "    )\n",
        "    if model_prop is not None:\n",
        "        if model_step is not None:\n",
        "            values = [\n",
        "                getattr(m[model_step], model_prop) for m in cv_results[\"estimator\"]\n",
        "            ]\n",
        "        else:\n",
        "            values = [getattr(m, model_prop) for m in cv_results[\"estimator\"]]\n",
        "        print(f\"Mean model.{model_prop} = {np.mean(values)}\")\n",
        "    accuracy = -cv_results[\"test_accuracy\"]\n",
        "\n",
        "    # print used in earlier testing\n",
        "    # print(\n",
        "    #    f\"Mean Accuracy:     {-accuracy.mean():.3f} +/- {accuracy.std():.3f}\\n\"\n",
        "    # )\n",
        "    return (-accuracy.mean(), accuracy.std())\n",
        "\n",
        "evaluate(model, X, y, cv=tscv, model_prop=\"n_estimators\")\n",
        "\n"
      ]
    },
    {
      "cell_type": "code",
      "execution_count": 17,
      "metadata": {
        "colab": {
          "base_uri": "https://localhost:8080/"
        },
        "id": "eWNamOa4iIye",
        "outputId": "9e63db90-6507-4a0e-8dac-6d14fc7f2861"
      },
      "outputs": [
        {
          "output_type": "stream",
          "name": "stdout",
          "text": [
            "Mean model.n_estimators = 1000.0\n",
            "Mean Accuracy:     0.499 +/- 0.016\n",
            "\n"
          ]
        }
      ],
      "source": [
        "# print results from evaluate\n",
        "accuracyMean, accuracyStd = evaluate(model, X, y, cv=tscv, model_prop=\"n_estimators\")\n",
        "print(\n",
        "        f\"Mean Accuracy:     {accuracyMean:.3f} +/- {accuracyStd:.3f}\\n\"\n",
        "     )"
      ]
    },
    {
      "cell_type": "markdown",
      "metadata": {
        "id": "ScC38HSciIye"
      },
      "source": [
        "### Randomized Search for Hyperparameter Settings\n",
        "We search for effective values on five XGBoost hyperparameters: **max_depth**, **min_child_weight**, **subsample**, **learning_rate**, and **n_estimators**."
      ]
    },
    {
      "cell_type": "code",
      "execution_count": 18,
      "metadata": {
        "colab": {
          "base_uri": "https://localhost:8080/"
        },
        "id": "hKmngGsjiIyf",
        "outputId": "add427c9-8ac0-4245-837c-686bea9f0da5"
      },
      "outputs": [
        {
          "output_type": "stream",
          "name": "stdout",
          "text": [
            "Best parameters: {'learning_rate': np.float64(0.1016031386732439), 'max_depth': 8, 'min_child_weight': 5, 'n_estimators': 963, 'subsample': np.float64(0.6547449987164417)}\n",
            "Best score: 0.5055658627087198\n"
          ]
        }
      ],
      "source": [
        "# Randomized search to find the best set of hyperparameters\n",
        "\n",
        "param_dist = {\n",
        "    'max_depth': randint(3, 10),\n",
        "    'min_child_weight': randint(1, 10),\n",
        "    'subsample': uniform(0.5, 1),\n",
        "    'learning_rate': uniform(0.01, 0.1),\n",
        "    'n_estimators': randint(100, 1000),\n",
        "}\n",
        "xgb_model = xgb.XGBClassifier(objective='binary:logistic', use_label_encoder=False, eval_metric='logloss', random_state=2025)\n",
        "\n",
        "random_search = RandomizedSearchCV(\n",
        "    estimator=xgb_model,\n",
        "    param_distributions=param_dist,\n",
        "    n_iter=100, # Number of parameter settings that are sampled.\n",
        "    scoring='accuracy',\n",
        "    cv = TimeSeriesSplit(gap=10, n_splits=5),\n",
        "    random_state=2025,\n",
        "    n_jobs=-1 # Use all available cores\n",
        ")\n",
        "\n",
        "random_search.fit(X, y)\n",
        "\n",
        "print(\"Best parameters:\", random_search.best_params_)\n",
        "print(\"Best score:\", random_search.best_score_)"
      ]
    },
    {
      "cell_type": "markdown",
      "metadata": {
        "id": "DkhKe2zNiIyf"
      },
      "source": [
        "### Evaluate the Model\n",
        "We define define an XGBoost subset model with these hyperparameter values and evaluate on the full data set."
      ]
    },
    {
      "cell_type": "code",
      "execution_count": 19,
      "metadata": {
        "colab": {
          "base_uri": "https://localhost:8080/",
          "height": 468
        },
        "id": "Yvxl_kcriIyi",
        "outputId": "f461a606-bcc7-4e61-d167-4a4bb81ec541"
      },
      "outputs": [
        {
          "output_type": "execute_result",
          "data": {
            "text/plain": [
              "<sklearn.metrics._plot.roc_curve.RocCurveDisplay at 0x7b21343860f0>"
            ]
          },
          "metadata": {},
          "execution_count": 19
        },
        {
          "output_type": "display_data",
          "data": {
            "text/plain": [
              "<Figure size 640x480 with 1 Axes>"
            ],
            "image/png": "[encoded data removed]"
          },
          "metadata": {}
        }
      ],
      "source": [
        "# final model evaluation\n",
        "finalModel = XGBClassifier(objective='binary:logistic', eval_metric='logloss', random_state=2025,\n",
        "                          max_depth = 9, min_child_weight = 9, subsample = 0.50, learning_rate = 0.09, n_estimators = 273)\n",
        "\n",
        "finalModel.fit(X, y)\n",
        "ypred = finalModel.predict(X)\n",
        "RocCurveDisplay.from_predictions(y, ypred)\n",
        ""
      ]
    },
    {
      "cell_type": "code",
      "execution_count": 20,
      "metadata": {
        "colab": {
          "base_uri": "https://localhost:8080/",
          "height": 539
        },
        "id": "mHFhIAKMiIyi",
        "outputId": "5bfcc0fd-f5a7-4b73-9c84-53cd64daa01b"
      },
      "outputs": [
        {
          "output_type": "stream",
          "name": "stdout",
          "text": [
            "Confusion Matrix\n",
            "[[2621  578]\n",
            " [ 540 2729]]\n"
          ]
        },
        {
          "output_type": "display_data",
          "data": {
            "text/plain": [
              "<Figure size 640x480 with 2 Axes>"
            ],
            "image/png": "[encoded data removed]"
          },
          "metadata": {}
        }
      ],
      "source": [
        "print(\"Confusion Matrix\")\n",
        "print(confusion_matrix(y, ypred))\n",
        "disp = ConfusionMatrixDisplay.from_predictions(y, ypred,\n",
        "                              display_labels =[\"Negative Return\",\"Positive Return\"],\n",
        "                                              cmap = plt.cm.Blues)\n",
        "plt.title(\"Confusion Matrix for Returns\")\n",
        "plt.xlabel(\"Predicted Return\")\n",
        "plt.ylabel(\"Actual Return\")\n",
        "plt.tight_layout()\n",
        "plt.show()"
      ]
    },
    {
      "cell_type": "code",
      "execution_count": 21,
      "metadata": {
        "colab": {
          "base_uri": "https://localhost:8080/"
        },
        "id": "qhdty-6hiIyj",
        "outputId": "4a38887b-44d0-4252-8d36-6e2a7cb90bfa"
      },
      "outputs": [
        {
          "output_type": "stream",
          "name": "stdout",
          "text": [
            "              precision    recall  f1-score   support\n",
            "\n",
            "           0       0.83      0.82      0.82      3199\n",
            "           1       0.83      0.83      0.83      3269\n",
            "\n",
            "   micro avg       0.83      0.83      0.83      6468\n",
            "   macro avg       0.83      0.83      0.83      6468\n",
            "weighted avg       0.83      0.83      0.83      6468\n",
            "\n"
          ]
        }
      ],
      "source": [
        "print(classification_report(y, ypred, labels = [\"0\",\"1\"]))"
      ]
    },
    {
      "cell_type": "markdown",
      "metadata": {
        "id": "HzyDONUNiIyk"
      },
      "source": [
        "## References\n",
        "\n",
        "* [yfinance GitHub](https://github.com/ranaroussi/yfinance)\n",
        "* [yfinance Documentation](https://ranaroussi.github.io/yfinance/)\n",
        "* [Polars Online User Guide](https://docs.pola.rs/)\n",
        "* [Build Polars Database](https://www.pyquantnews.com/free-python-resources/build-stock-database-locally-with-polars)\n",
        "* [YouTube. Polars and Time Series: What It Can Do, and How to Overcome Any Limitation](https://www.youtube.com/watch?v=qz-zAHBz6Ks)\n",
        "* [Awesome Quant: Python for Quantiative Finance](https://wilsonfreitas.github.io/awesome-quant/)\n",
        "* [Cross-validation](https://scikit-learn.org/stable/modules/cross_validation.html)\n",
        "* [TimeSeriesSplit](https://scikit-learn.org/stable/modules/generated/sklearn.model_selection.TimeSeriesSplit.html)\n",
        "* [RandomizedSearchCV](https://scikit-learn.org/stable/modules/generated/sklearn.model_selection.RandomizedSearchCV.html)\n",
        "* [Hyperparameter Tuning](https://scikit-learn.org/stable/modules/grid_search.html#grid-search)\n",
        "* [Metrics and Scoring](https://scikit-learn.org/stable/modules/model_evaluation.html#scoring-parameter)\n",
        "* [Introduction to Boosted Trees](https://xgboost.readthedocs.io/en/latest/tutorials/model.html)\n",
        "* [XGBoost documentation](https://xgboost.readthedocs.io/en/latest/index.html)\n",
        "* [XGBoost in Python documentation](https://xgboost-clone.readthedocs.io/en/latest/python/python_intro.html)\n",
        "* [Auto-Sklearn for AutoML in an Scikit-Learn Environment](https://www.automl.org/automl-for-x/tabular-data/auto-sklearn/)."
      ]
    }
  ],
  "metadata": {
    "kernelspec": {
      "display_name": "Python 3 (ipykernel)",
      "language": "python",
      "name": "python3"
    },
    "language_info": {
      "codemirror_mode": {
        "name": "ipython",
        "version": 3
      },
      "file_extension": ".py",
      "mimetype": "text/x-python",
      "name": "python",
      "nbconvert_exporter": "python",
      "pygments_lexer": "ipython3",
      "version": "3.13.3"
    },
    "nbTranslate": {
      "displayLangs": [
        "*"
      ],
      "hotkey": "alt-t",
      "langInMainMenu": true,
      "sourceLang": "en",
      "targetLang": "fr",
      "useGoogleTranslate": true
    },
    "toc": {
      "base_numbering": 1,
      "nav_menu": {},
      "number_sections": true,
      "sideBar": true,
      "skip_h1_title": true,
      "title_cell": "Table of Contents",
      "title_sidebar": "Contents",
      "toc_cell": false,
      "toc_position": {
        "height": "calc(100% - 180px)",
        "left": "10px",
        "top": "150px",
        "width": "341.331543px"
      },
      "toc_section_display": true,
      "toc_window_display": false
    },
    "toc-autonumbering": false,
    "toc-showtags": false,
    "varInspector": {
      "cols": {
        "lenName": 16,
        "lenType": 16,
        "lenVar": 40
      },
      "kernels_config": {
        "python": {
          "delete_cmd_postfix": "",
          "delete_cmd_prefix": "del ",
          "library": "var_list.py",
          "varRefreshCmd": "print(var_dic_list())"
        },
        "r": {
          "delete_cmd_postfix": ") ",
          "delete_cmd_prefix": "rm(",
          "library": "var_list.r",
          "varRefreshCmd": "cat(var_dic_list()) "
        }
      },
      "types_to_exclude": [
        "module",
        "function",
        "builtin_function_or_method",
        "instance",
        "_Feature"
      ],
      "window_display": false
    },
    "colab": {
      "provenance": []
    }
  },
  "nbformat": 4,
  "nbformat_minor": 0
}